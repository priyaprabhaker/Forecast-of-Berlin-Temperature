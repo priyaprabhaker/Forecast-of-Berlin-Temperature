{
 "cells": [
  {
   "cell_type": "code",
   "execution_count": 1,
   "metadata": {},
   "outputs": [],
   "source": [
    "import pandas as pd\n",
    "import numpy as np\n",
    "import matplotlib.pyplot as plt\n",
    "%matplotlib inline\n",
    "plt.style.use(\"ggplot\")\n",
    "from statsmodels.tsa import stattools\n",
    "from sklearn.linear_model import LinearRegression\n",
    "from sklearn.model_selection import TimeSeriesSplit, cross_val_score\n",
    "from statsmodels.tsa.ar_model import AutoReg\n",
    "plt.rcParams['figure.figsize'] = (12, 6)"
   ]
  },
  {
   "cell_type": "code",
   "execution_count": 2,
   "metadata": {},
   "outputs": [],
   "source": [
    "#FTemperature reecordings of Berlin area that was taken from official website www.ecad.eu \n",
    "df =  pd.read_csv('ECA_blended_custom/TG_STAID002759.txt', sep = \",\", header = 14)"
   ]
  },
  {
   "cell_type": "code",
   "execution_count": 3,
   "metadata": {},
   "outputs": [],
   "source": [
    "df1 = df.drop(columns = ' SOUID') "
   ]
  },
  {
   "cell_type": "code",
   "execution_count": 4,
   "metadata": {},
   "outputs": [],
   "source": [
    "df1['    DATE'] = pd.to_datetime(df1['    DATE'], format = '%Y%m%d')\n"
   ]
  },
  {
   "cell_type": "code",
   "execution_count": 5,
   "metadata": {},
   "outputs": [],
   "source": [
    "df1.columns=['date','temperature','quality']"
   ]
  },
  {
   "cell_type": "code",
   "execution_count": 6,
   "metadata": {},
   "outputs": [],
   "source": [
    "df1.set_index('date', inplace = True, drop = True)"
   ]
  },
  {
   "cell_type": "code",
   "execution_count": 7,
   "metadata": {},
   "outputs": [],
   "source": [
    "df1['temperature'] = df1['temperature'] /10"
   ]
  },
  {
   "cell_type": "code",
   "execution_count": 8,
   "metadata": {},
   "outputs": [],
   "source": [
    "#I created year so I could see some changes in the output. But it was same\n",
    "df1['year']= df1.index.year"
   ]
  },
  {
   "cell_type": "code",
   "execution_count": 9,
   "metadata": {},
   "outputs": [],
   "source": [
    "temp= df1[df1['quality']==0]"
   ]
  },
  {
   "cell_type": "code",
   "execution_count": 10,
   "metadata": {},
   "outputs": [],
   "source": [
    "#temp=temp1.iloc[27000:]"
   ]
  },
  {
   "cell_type": "code",
   "execution_count": 11,
   "metadata": {},
   "outputs": [
    {
     "name": "stderr",
     "output_type": "stream",
     "text": [
      "/tmp/ipykernel_14752/1154500157.py:1: SettingWithCopyWarning: \n",
      "A value is trying to be set on a copy of a slice from a DataFrame.\n",
      "Try using .loc[row_indexer,col_indexer] = value instead\n",
      "\n",
      "See the caveats in the documentation: https://pandas.pydata.org/pandas-docs/stable/user_guide/indexing.html#returning-a-view-versus-a-copy\n",
      "  temp['timestep'] = range(len(temp))\n"
     ]
    }
   ],
   "source": [
    "temp['timestep'] = range(len(temp))"
   ]
  },
  {
   "cell_type": "code",
   "execution_count": 12,
   "metadata": {},
   "outputs": [],
   "source": [
    "seasonal_dummies = pd.get_dummies(temp.index.month, prefix='month', drop_first=True).set_index(temp.index)\n",
    "temp = temp.join(seasonal_dummies)"
   ]
  },
  {
   "cell_type": "code",
   "execution_count": 13,
   "metadata": {},
   "outputs": [
    {
     "data": {
      "text/html": [
       "<div>\n",
       "<style scoped>\n",
       "    .dataframe tbody tr th:only-of-type {\n",
       "        vertical-align: middle;\n",
       "    }\n",
       "\n",
       "    .dataframe tbody tr th {\n",
       "        vertical-align: top;\n",
       "    }\n",
       "\n",
       "    .dataframe thead th {\n",
       "        text-align: right;\n",
       "    }\n",
       "</style>\n",
       "<table border=\"1\" class=\"dataframe\">\n",
       "  <thead>\n",
       "    <tr style=\"text-align: right;\">\n",
       "      <th></th>\n",
       "      <th>temperature</th>\n",
       "      <th>quality</th>\n",
       "      <th>year</th>\n",
       "      <th>timestep</th>\n",
       "      <th>month_2</th>\n",
       "      <th>month_3</th>\n",
       "      <th>month_4</th>\n",
       "      <th>month_5</th>\n",
       "      <th>month_6</th>\n",
       "      <th>month_7</th>\n",
       "      <th>month_8</th>\n",
       "      <th>month_9</th>\n",
       "      <th>month_10</th>\n",
       "      <th>month_11</th>\n",
       "      <th>month_12</th>\n",
       "    </tr>\n",
       "    <tr>\n",
       "      <th>date</th>\n",
       "      <th></th>\n",
       "      <th></th>\n",
       "      <th></th>\n",
       "      <th></th>\n",
       "      <th></th>\n",
       "      <th></th>\n",
       "      <th></th>\n",
       "      <th></th>\n",
       "      <th></th>\n",
       "      <th></th>\n",
       "      <th></th>\n",
       "      <th></th>\n",
       "      <th></th>\n",
       "      <th></th>\n",
       "      <th></th>\n",
       "    </tr>\n",
       "  </thead>\n",
       "  <tbody>\n",
       "    <tr>\n",
       "      <th>1876-01-01</th>\n",
       "      <td>2.2</td>\n",
       "      <td>0</td>\n",
       "      <td>1876</td>\n",
       "      <td>0</td>\n",
       "      <td>0</td>\n",
       "      <td>0</td>\n",
       "      <td>0</td>\n",
       "      <td>0</td>\n",
       "      <td>0</td>\n",
       "      <td>0</td>\n",
       "      <td>0</td>\n",
       "      <td>0</td>\n",
       "      <td>0</td>\n",
       "      <td>0</td>\n",
       "      <td>0</td>\n",
       "    </tr>\n",
       "    <tr>\n",
       "      <th>1876-01-02</th>\n",
       "      <td>2.5</td>\n",
       "      <td>0</td>\n",
       "      <td>1876</td>\n",
       "      <td>1</td>\n",
       "      <td>0</td>\n",
       "      <td>0</td>\n",
       "      <td>0</td>\n",
       "      <td>0</td>\n",
       "      <td>0</td>\n",
       "      <td>0</td>\n",
       "      <td>0</td>\n",
       "      <td>0</td>\n",
       "      <td>0</td>\n",
       "      <td>0</td>\n",
       "      <td>0</td>\n",
       "    </tr>\n",
       "    <tr>\n",
       "      <th>1876-01-03</th>\n",
       "      <td>0.3</td>\n",
       "      <td>0</td>\n",
       "      <td>1876</td>\n",
       "      <td>2</td>\n",
       "      <td>0</td>\n",
       "      <td>0</td>\n",
       "      <td>0</td>\n",
       "      <td>0</td>\n",
       "      <td>0</td>\n",
       "      <td>0</td>\n",
       "      <td>0</td>\n",
       "      <td>0</td>\n",
       "      <td>0</td>\n",
       "      <td>0</td>\n",
       "      <td>0</td>\n",
       "    </tr>\n",
       "    <tr>\n",
       "      <th>1876-01-04</th>\n",
       "      <td>-5.8</td>\n",
       "      <td>0</td>\n",
       "      <td>1876</td>\n",
       "      <td>3</td>\n",
       "      <td>0</td>\n",
       "      <td>0</td>\n",
       "      <td>0</td>\n",
       "      <td>0</td>\n",
       "      <td>0</td>\n",
       "      <td>0</td>\n",
       "      <td>0</td>\n",
       "      <td>0</td>\n",
       "      <td>0</td>\n",
       "      <td>0</td>\n",
       "      <td>0</td>\n",
       "    </tr>\n",
       "    <tr>\n",
       "      <th>1876-01-05</th>\n",
       "      <td>-9.8</td>\n",
       "      <td>0</td>\n",
       "      <td>1876</td>\n",
       "      <td>4</td>\n",
       "      <td>0</td>\n",
       "      <td>0</td>\n",
       "      <td>0</td>\n",
       "      <td>0</td>\n",
       "      <td>0</td>\n",
       "      <td>0</td>\n",
       "      <td>0</td>\n",
       "      <td>0</td>\n",
       "      <td>0</td>\n",
       "      <td>0</td>\n",
       "      <td>0</td>\n",
       "    </tr>\n",
       "    <tr>\n",
       "      <th>...</th>\n",
       "      <td>...</td>\n",
       "      <td>...</td>\n",
       "      <td>...</td>\n",
       "      <td>...</td>\n",
       "      <td>...</td>\n",
       "      <td>...</td>\n",
       "      <td>...</td>\n",
       "      <td>...</td>\n",
       "      <td>...</td>\n",
       "      <td>...</td>\n",
       "      <td>...</td>\n",
       "      <td>...</td>\n",
       "      <td>...</td>\n",
       "      <td>...</td>\n",
       "      <td>...</td>\n",
       "    </tr>\n",
       "    <tr>\n",
       "      <th>2023-01-27</th>\n",
       "      <td>1.6</td>\n",
       "      <td>0</td>\n",
       "      <td>2023</td>\n",
       "      <td>53522</td>\n",
       "      <td>0</td>\n",
       "      <td>0</td>\n",
       "      <td>0</td>\n",
       "      <td>0</td>\n",
       "      <td>0</td>\n",
       "      <td>0</td>\n",
       "      <td>0</td>\n",
       "      <td>0</td>\n",
       "      <td>0</td>\n",
       "      <td>0</td>\n",
       "      <td>0</td>\n",
       "    </tr>\n",
       "    <tr>\n",
       "      <th>2023-01-28</th>\n",
       "      <td>0.1</td>\n",
       "      <td>0</td>\n",
       "      <td>2023</td>\n",
       "      <td>53523</td>\n",
       "      <td>0</td>\n",
       "      <td>0</td>\n",
       "      <td>0</td>\n",
       "      <td>0</td>\n",
       "      <td>0</td>\n",
       "      <td>0</td>\n",
       "      <td>0</td>\n",
       "      <td>0</td>\n",
       "      <td>0</td>\n",
       "      <td>0</td>\n",
       "      <td>0</td>\n",
       "    </tr>\n",
       "    <tr>\n",
       "      <th>2023-01-29</th>\n",
       "      <td>1.1</td>\n",
       "      <td>0</td>\n",
       "      <td>2023</td>\n",
       "      <td>53524</td>\n",
       "      <td>0</td>\n",
       "      <td>0</td>\n",
       "      <td>0</td>\n",
       "      <td>0</td>\n",
       "      <td>0</td>\n",
       "      <td>0</td>\n",
       "      <td>0</td>\n",
       "      <td>0</td>\n",
       "      <td>0</td>\n",
       "      <td>0</td>\n",
       "      <td>0</td>\n",
       "    </tr>\n",
       "    <tr>\n",
       "      <th>2023-01-30</th>\n",
       "      <td>3.8</td>\n",
       "      <td>0</td>\n",
       "      <td>2023</td>\n",
       "      <td>53525</td>\n",
       "      <td>0</td>\n",
       "      <td>0</td>\n",
       "      <td>0</td>\n",
       "      <td>0</td>\n",
       "      <td>0</td>\n",
       "      <td>0</td>\n",
       "      <td>0</td>\n",
       "      <td>0</td>\n",
       "      <td>0</td>\n",
       "      <td>0</td>\n",
       "      <td>0</td>\n",
       "    </tr>\n",
       "    <tr>\n",
       "      <th>2023-01-31</th>\n",
       "      <td>4.3</td>\n",
       "      <td>0</td>\n",
       "      <td>2023</td>\n",
       "      <td>53526</td>\n",
       "      <td>0</td>\n",
       "      <td>0</td>\n",
       "      <td>0</td>\n",
       "      <td>0</td>\n",
       "      <td>0</td>\n",
       "      <td>0</td>\n",
       "      <td>0</td>\n",
       "      <td>0</td>\n",
       "      <td>0</td>\n",
       "      <td>0</td>\n",
       "      <td>0</td>\n",
       "    </tr>\n",
       "  </tbody>\n",
       "</table>\n",
       "<p>53527 rows × 15 columns</p>\n",
       "</div>"
      ],
      "text/plain": [
       "            temperature  quality  year  timestep  month_2  month_3  month_4  \\\n",
       "date                                                                          \n",
       "1876-01-01          2.2        0  1876         0        0        0        0   \n",
       "1876-01-02          2.5        0  1876         1        0        0        0   \n",
       "1876-01-03          0.3        0  1876         2        0        0        0   \n",
       "1876-01-04         -5.8        0  1876         3        0        0        0   \n",
       "1876-01-05         -9.8        0  1876         4        0        0        0   \n",
       "...                 ...      ...   ...       ...      ...      ...      ...   \n",
       "2023-01-27          1.6        0  2023     53522        0        0        0   \n",
       "2023-01-28          0.1        0  2023     53523        0        0        0   \n",
       "2023-01-29          1.1        0  2023     53524        0        0        0   \n",
       "2023-01-30          3.8        0  2023     53525        0        0        0   \n",
       "2023-01-31          4.3        0  2023     53526        0        0        0   \n",
       "\n",
       "            month_5  month_6  month_7  month_8  month_9  month_10  month_11  \\\n",
       "date                                                                          \n",
       "1876-01-01        0        0        0        0        0         0         0   \n",
       "1876-01-02        0        0        0        0        0         0         0   \n",
       "1876-01-03        0        0        0        0        0         0         0   \n",
       "1876-01-04        0        0        0        0        0         0         0   \n",
       "1876-01-05        0        0        0        0        0         0         0   \n",
       "...             ...      ...      ...      ...      ...       ...       ...   \n",
       "2023-01-27        0        0        0        0        0         0         0   \n",
       "2023-01-28        0        0        0        0        0         0         0   \n",
       "2023-01-29        0        0        0        0        0         0         0   \n",
       "2023-01-30        0        0        0        0        0         0         0   \n",
       "2023-01-31        0        0        0        0        0         0         0   \n",
       "\n",
       "            month_12  \n",
       "date                  \n",
       "1876-01-01         0  \n",
       "1876-01-02         0  \n",
       "1876-01-03         0  \n",
       "1876-01-04         0  \n",
       "1876-01-05         0  \n",
       "...              ...  \n",
       "2023-01-27         0  \n",
       "2023-01-28         0  \n",
       "2023-01-29         0  \n",
       "2023-01-30         0  \n",
       "2023-01-31         0  \n",
       "\n",
       "[53527 rows x 15 columns]"
      ]
     },
     "execution_count": 13,
     "metadata": {},
     "output_type": "execute_result"
    }
   ],
   "source": [
    "temp"
   ]
  },
  {
   "cell_type": "code",
   "execution_count": 14,
   "metadata": {},
   "outputs": [],
   "source": [
    "X = temp.drop(['temperature'], axis=1)\n",
    "y = temp['temperature']"
   ]
  },
  {
   "cell_type": "code",
   "execution_count": 15,
   "metadata": {},
   "outputs": [
    {
     "data": {
      "text/html": [
       "<style>#sk-container-id-1 {color: black;background-color: white;}#sk-container-id-1 pre{padding: 0;}#sk-container-id-1 div.sk-toggleable {background-color: white;}#sk-container-id-1 label.sk-toggleable__label {cursor: pointer;display: block;width: 100%;margin-bottom: 0;padding: 0.3em;box-sizing: border-box;text-align: center;}#sk-container-id-1 label.sk-toggleable__label-arrow:before {content: \"▸\";float: left;margin-right: 0.25em;color: #696969;}#sk-container-id-1 label.sk-toggleable__label-arrow:hover:before {color: black;}#sk-container-id-1 div.sk-estimator:hover label.sk-toggleable__label-arrow:before {color: black;}#sk-container-id-1 div.sk-toggleable__content {max-height: 0;max-width: 0;overflow: hidden;text-align: left;background-color: #f0f8ff;}#sk-container-id-1 div.sk-toggleable__content pre {margin: 0.2em;color: black;border-radius: 0.25em;background-color: #f0f8ff;}#sk-container-id-1 input.sk-toggleable__control:checked~div.sk-toggleable__content {max-height: 200px;max-width: 100%;overflow: auto;}#sk-container-id-1 input.sk-toggleable__control:checked~label.sk-toggleable__label-arrow:before {content: \"▾\";}#sk-container-id-1 div.sk-estimator input.sk-toggleable__control:checked~label.sk-toggleable__label {background-color: #d4ebff;}#sk-container-id-1 div.sk-label input.sk-toggleable__control:checked~label.sk-toggleable__label {background-color: #d4ebff;}#sk-container-id-1 input.sk-hidden--visually {border: 0;clip: rect(1px 1px 1px 1px);clip: rect(1px, 1px, 1px, 1px);height: 1px;margin: -1px;overflow: hidden;padding: 0;position: absolute;width: 1px;}#sk-container-id-1 div.sk-estimator {font-family: monospace;background-color: #f0f8ff;border: 1px dotted black;border-radius: 0.25em;box-sizing: border-box;margin-bottom: 0.5em;}#sk-container-id-1 div.sk-estimator:hover {background-color: #d4ebff;}#sk-container-id-1 div.sk-parallel-item::after {content: \"\";width: 100%;border-bottom: 1px solid gray;flex-grow: 1;}#sk-container-id-1 div.sk-label:hover label.sk-toggleable__label {background-color: #d4ebff;}#sk-container-id-1 div.sk-serial::before {content: \"\";position: absolute;border-left: 1px solid gray;box-sizing: border-box;top: 0;bottom: 0;left: 50%;z-index: 0;}#sk-container-id-1 div.sk-serial {display: flex;flex-direction: column;align-items: center;background-color: white;padding-right: 0.2em;padding-left: 0.2em;position: relative;}#sk-container-id-1 div.sk-item {position: relative;z-index: 1;}#sk-container-id-1 div.sk-parallel {display: flex;align-items: stretch;justify-content: center;background-color: white;position: relative;}#sk-container-id-1 div.sk-item::before, #sk-container-id-1 div.sk-parallel-item::before {content: \"\";position: absolute;border-left: 1px solid gray;box-sizing: border-box;top: 0;bottom: 0;left: 50%;z-index: -1;}#sk-container-id-1 div.sk-parallel-item {display: flex;flex-direction: column;z-index: 1;position: relative;background-color: white;}#sk-container-id-1 div.sk-parallel-item:first-child::after {align-self: flex-end;width: 50%;}#sk-container-id-1 div.sk-parallel-item:last-child::after {align-self: flex-start;width: 50%;}#sk-container-id-1 div.sk-parallel-item:only-child::after {width: 0;}#sk-container-id-1 div.sk-dashed-wrapped {border: 1px dashed gray;margin: 0 0.4em 0.5em 0.4em;box-sizing: border-box;padding-bottom: 0.4em;background-color: white;}#sk-container-id-1 div.sk-label label {font-family: monospace;font-weight: bold;display: inline-block;line-height: 1.2em;}#sk-container-id-1 div.sk-label-container {text-align: center;}#sk-container-id-1 div.sk-container {/* jupyter's `normalize.less` sets `[hidden] { display: none; }` but bootstrap.min.css set `[hidden] { display: none !important; }` so we also need the `!important` here to be able to override the default hidden behavior on the sphinx rendered scikit-learn.org. See: https://github.com/scikit-learn/scikit-learn/issues/21755 */display: inline-block !important;position: relative;}#sk-container-id-1 div.sk-text-repr-fallback {display: none;}</style><div id=\"sk-container-id-1\" class=\"sk-top-container\"><div class=\"sk-text-repr-fallback\"><pre>LinearRegression()</pre><b>In a Jupyter environment, please rerun this cell to show the HTML representation or trust the notebook. <br />On GitHub, the HTML representation is unable to render, please try loading this page with nbviewer.org.</b></div><div class=\"sk-container\" hidden><div class=\"sk-item\"><div class=\"sk-estimator sk-toggleable\"><input class=\"sk-toggleable__control sk-hidden--visually\" id=\"sk-estimator-id-1\" type=\"checkbox\" checked><label for=\"sk-estimator-id-1\" class=\"sk-toggleable__label sk-toggleable__label-arrow\">LinearRegression</label><div class=\"sk-toggleable__content\"><pre>LinearRegression()</pre></div></div></div></div></div>"
      ],
      "text/plain": [
       "LinearRegression()"
      ]
     },
     "execution_count": 15,
     "metadata": {},
     "output_type": "execute_result"
    }
   ],
   "source": [
    "m = LinearRegression()\n",
    "m.fit(X, y)"
   ]
  },
  {
   "cell_type": "code",
   "execution_count": 16,
   "metadata": {},
   "outputs": [],
   "source": [
    "temp['trend_seasonal'] = m.predict(X)"
   ]
  },
  {
   "cell_type": "code",
   "execution_count": 17,
   "metadata": {},
   "outputs": [],
   "source": [
    "temp['differences'] = temp['temperature'] - temp['trend_seasonal']"
   ]
  },
  {
   "cell_type": "code",
   "execution_count": 20,
   "metadata": {},
   "outputs": [
    {
     "data": {
      "image/png": "[encoded data removed]",
      "text/plain": [
       "<Figure size 1200x600 with 1 Axes>"
      ]
     },
     "metadata": {},
     "output_type": "display_data"
    }
   ],
   "source": [
    "from statsmodels.graphics.tsaplots import plot_pacf, plot_acf\n",
    "plot_acf(temp['differences']);"
   ]
  },
  {
   "cell_type": "code",
   "execution_count": null,
   "metadata": {},
   "outputs": [
    {
     "name": "stderr",
     "output_type": "stream",
     "text": [
      "/home/priya/anaconda3/lib/python3.10/site-packages/statsmodels/tsa/base/tsa_model.py:471: ValueWarning: A date index has been provided, but it has no associated frequency information and so will be ignored when e.g. forecasting.\n",
      "  self._init_dates(dates, freq)\n",
      "/home/priya/anaconda3/lib/python3.10/site-packages/statsmodels/tsa/base/tsa_model.py:471: ValueWarning: A date index has been provided, but it has no associated frequency information and so will be ignored when e.g. forecasting.\n",
      "  self._init_dates(dates, freq)\n"
     ]
    },
    {
     "data": {
      "text/plain": [
       "[1, 2, 3, 4]"
      ]
     },
     "metadata": {},
     "output_type": "display_data"
    }
   ],
   "source": [
    "#finding the number of lags to do\n",
    "from statsmodels.tsa.ar_model import AutoReg, ar_select_order\n",
    "selected_order = ar_select_order(temp['differences'], maxlag=12)\n",
    "selected_order.ar_lags"
   ]
  },
  {
   "cell_type": "code",
   "execution_count": null,
   "metadata": {},
   "outputs": [
    {
     "data": {
      "text/plain": [
       "{(1, 2, 3, 4, 5): 241420.9059719923,\n",
       " (1, 2, 3, 4, 5, 6, 7): 241421.190788387,\n",
       " (1, 2, 3, 4, 5, 6): 241421.51051670802,\n",
       " (1, 2, 3, 4, 5, 6, 7, 8): 241421.70866972895,\n",
       " (1, 2, 3, 4, 5, 6, 7, 8, 9): 241423.43249044786,\n",
       " (1, 2, 3, 4, 5, 6, 7, 8, 9, 10): 241425.349160473,\n",
       " (1, 2, 3, 4, 5, 6, 7, 8, 9, 10, 11): 241426.9563464736,\n",
       " (1, 2, 3, 4, 5, 6, 7, 8, 9, 10, 11, 12): 241428.9345268539,\n",
       " (1, 2, 3, 4): 241429.65981970314,\n",
       " (1, 2, 3): 241441.95083689262,\n",
       " (1, 2): 241704.07184440934,\n",
       " (1,): 242664.79825461787,\n",
       " 0: 298303.0067393775}"
      ]
     },
     "metadata": {},
     "output_type": "display_data"
    }
   ],
   "source": [
    "selected_order.aic\n"
   ]
  },
  {
   "cell_type": "code",
   "execution_count": null,
   "metadata": {},
   "outputs": [
    {
     "data": {
      "text/plain": [
       "{(1, 2, 3, 4, 5): 241420.9059719923,\n",
       " (1, 2, 3, 4, 5, 6, 7): 241421.190788387,\n",
       " (1, 2, 3, 4, 5, 6): 241421.51051670802,\n",
       " (1, 2, 3, 4, 5, 6, 7, 8): 241421.70866972895,\n",
       " (1, 2, 3, 4, 5, 6, 7, 8, 9): 241423.43249044786,\n",
       " (1, 2, 3, 4, 5, 6, 7, 8, 9, 10): 241425.349160473,\n",
       " (1, 2, 3, 4, 5, 6, 7, 8, 9, 10, 11): 241426.9563464736,\n",
       " (1, 2, 3, 4, 5, 6, 7, 8, 9, 10, 11, 12): 241428.9345268539,\n",
       " (1, 2, 3, 4): 241429.65981970314,\n",
       " (1, 2, 3): 241441.95083689262,\n",
       " (1, 2): 241704.07184440934,\n",
       " (1,): 242664.79825461787,\n",
       " 0: 298303.0067393775}"
      ]
     },
     "metadata": {},
     "output_type": "display_data"
    }
   ],
   "source": [
    "selected_order.aic"
   ]
  },
  {
   "cell_type": "code",
   "execution_count": null,
   "metadata": {},
   "outputs": [
    {
     "name": "stderr",
     "output_type": "stream",
     "text": [
      "/home/priya/anaconda3/lib/python3.10/site-packages/statsmodels/tsa/base/tsa_model.py:471: ValueWarning: A date index has been provided, but it has no associated frequency information and so will be ignored when e.g. forecasting.\n",
      "  self._init_dates(dates, freq)\n"
     ]
    }
   ],
   "source": [
    "ar_model = AutoReg(endog=temp['differences'], lags=4, trend=\"n\").fit()"
   ]
  },
  {
   "cell_type": "code",
   "execution_count": null,
   "metadata": {},
   "outputs": [
    {
     "data": {
      "text/html": [
       "<table class=\"simpletable\">\n",
       "<caption>AutoReg Model Results</caption>\n",
       "<tr>\n",
       "  <th>Dep. Variable:</th>    <td>differences</td>   <th>  No. Observations:  </th>    <td>53523</td>   \n",
       "</tr>\n",
       "<tr>\n",
       "  <th>Model:</th>            <td>AutoReg(4)</td>    <th>  Log Likelihood     </th> <td>-120726.615</td>\n",
       "</tr>\n",
       "<tr>\n",
       "  <th>Method:</th>         <td>Conditional MLE</td> <th>  S.D. of innovations</th>    <td>2.309</td>   \n",
       "</tr>\n",
       "<tr>\n",
       "  <th>Date:</th>          <td>Thu, 06 Apr 2023</td> <th>  AIC                </th> <td>241463.230</td> \n",
       "</tr>\n",
       "<tr>\n",
       "  <th>Time:</th>              <td>17:01:31</td>     <th>  BIC                </th> <td>241507.669</td> \n",
       "</tr>\n",
       "<tr>\n",
       "  <th>Sample:</th>                <td>4</td>        <th>  HQIC               </th> <td>241477.106</td> \n",
       "</tr>\n",
       "<tr>\n",
       "  <th></th>                     <td>53523</td>      <th>                     </th>      <td> </td>     \n",
       "</tr>\n",
       "</table>\n",
       "<table class=\"simpletable\">\n",
       "<tr>\n",
       "         <td></td>           <th>coef</th>     <th>std err</th>      <th>z</th>      <th>P>|z|</th>  <th>[0.025</th>    <th>0.975]</th>  \n",
       "</tr>\n",
       "<tr>\n",
       "  <th>differences.L1</th> <td>    0.9197</td> <td>    0.004</td> <td>  212.788</td> <td> 0.000</td> <td>    0.911</td> <td>    0.928</td>\n",
       "</tr>\n",
       "<tr>\n",
       "  <th>differences.L2</th> <td>   -0.1943</td> <td>    0.006</td> <td>  -33.116</td> <td> 0.000</td> <td>   -0.206</td> <td>   -0.183</td>\n",
       "</tr>\n",
       "<tr>\n",
       "  <th>differences.L3</th> <td>    0.0551</td> <td>    0.006</td> <td>    9.395</td> <td> 0.000</td> <td>    0.044</td> <td>    0.067</td>\n",
       "</tr>\n",
       "<tr>\n",
       "  <th>differences.L4</th> <td>    0.0164</td> <td>    0.004</td> <td>    3.791</td> <td> 0.000</td> <td>    0.008</td> <td>    0.025</td>\n",
       "</tr>\n",
       "</table>\n",
       "<table class=\"simpletable\">\n",
       "<caption>Roots</caption>\n",
       "<tr>\n",
       "    <td></td>   <th>            Real</th>  <th>         Imaginary</th> <th>         Modulus</th>  <th>        Frequency</th>\n",
       "</tr>\n",
       "<tr>\n",
       "  <th>AR.1</th> <td>           1.2577</td> <td>          -0.0000j</td> <td>           1.2577</td> <td>          -0.0000</td>\n",
       "</tr>\n",
       "<tr>\n",
       "  <th>AR.2</th> <td>           1.0066</td> <td>          -2.5100j</td> <td>           2.7043</td> <td>          -0.1893</td>\n",
       "</tr>\n",
       "<tr>\n",
       "  <th>AR.3</th> <td>           1.0066</td> <td>          +2.5100j</td> <td>           2.7043</td> <td>           0.1893</td>\n",
       "</tr>\n",
       "<tr>\n",
       "  <th>AR.4</th> <td>          -6.6353</td> <td>          -0.0000j</td> <td>           6.6353</td> <td>          -0.5000</td>\n",
       "</tr>\n",
       "</table>"
      ],
      "text/plain": [
       "<class 'statsmodels.iolib.summary.Summary'>\n",
       "\"\"\"\n",
       "                            AutoReg Model Results                             \n",
       "==============================================================================\n",
       "Dep. Variable:            differences   No. Observations:                53523\n",
       "Model:                     AutoReg(4)   Log Likelihood             -120726.615\n",
       "Method:               Conditional MLE   S.D. of innovations              2.309\n",
       "Date:                Thu, 06 Apr 2023   AIC                         241463.230\n",
       "Time:                        17:01:31   BIC                         241507.669\n",
       "Sample:                             4   HQIC                        241477.106\n",
       "                                53523                                         \n",
       "==================================================================================\n",
       "                     coef    std err          z      P>|z|      [0.025      0.975]\n",
       "----------------------------------------------------------------------------------\n",
       "differences.L1     0.9197      0.004    212.788      0.000       0.911       0.928\n",
       "differences.L2    -0.1943      0.006    -33.116      0.000      -0.206      -0.183\n",
       "differences.L3     0.0551      0.006      9.395      0.000       0.044       0.067\n",
       "differences.L4     0.0164      0.004      3.791      0.000       0.008       0.025\n",
       "                                    Roots                                    \n",
       "=============================================================================\n",
       "                  Real          Imaginary           Modulus         Frequency\n",
       "-----------------------------------------------------------------------------\n",
       "AR.1            1.2577           -0.0000j            1.2577           -0.0000\n",
       "AR.2            1.0066           -2.5100j            2.7043           -0.1893\n",
       "AR.3            1.0066           +2.5100j            2.7043            0.1893\n",
       "AR.4           -6.6353           -0.0000j            6.6353           -0.5000\n",
       "-----------------------------------------------------------------------------\n",
       "\"\"\""
      ]
     },
     "metadata": {},
     "output_type": "display_data"
    }
   ],
   "source": [
    "ar_model.summary()"
   ]
  },
  {
   "cell_type": "code",
   "execution_count": null,
   "metadata": {},
   "outputs": [
    {
     "name": "stderr",
     "output_type": "stream",
     "text": [
      "/home/priya/anaconda3/lib/python3.10/site-packages/statsmodels/tsa/base/tsa_model.py:834: ValueWarning: No supported index is available. Prediction results will be given with an integer index beginning at `start`.\n",
      "  return get_prediction_index(\n",
      "/home/priya/anaconda3/lib/python3.10/site-packages/statsmodels/tsa/deterministic.py:302: UserWarning: Only PeriodIndexes, DatetimeIndexes with a frequency set, RangesIndexes, and Index with a unit increment support extending. The index is set will contain the position relative to the data length.\n",
      "  fcast_index = self._extend_index(index, steps, forecast_index)\n"
     ]
    },
    {
     "data": {
      "text/plain": [
       "53523    2.529214\n",
       "53524    1.833437\n",
       "53525    1.426760\n",
       "dtype: float64"
      ]
     },
     "metadata": {},
     "output_type": "display_data"
    }
   ],
   "source": [
    "ar_model.forecast(steps=3) #The ar model doesn't work. It doesn't predict so well."
   ]
  },
  {
   "cell_type": "code",
   "execution_count": null,
   "metadata": {},
   "outputs": [
    {
     "data": {
      "text/plain": [
       "<Axes: xlabel='date', ylabel='differences'>"
      ]
     },
     "metadata": {},
     "output_type": "display_data"
    },
    {
     "data": {
      "image/png": "[encoded data removed]",
      "text/plain": [
       "<Figure size 1200x600 with 1 Axes>"
      ]
     },
     "metadata": {},
     "output_type": "display_data"
    }
   ],
   "source": [
    "import seaborn as sns\n",
    "sns.lineplot(data=temp['differences'],label = 'differences')\n",
    "sns.lineplot(data=ar_model.predict(),label = 'predictions') # this work only when I reduced the data like from iloc =30000:"
   ]
  },
  {
   "cell_type": "code",
   "execution_count": null,
   "metadata": {},
   "outputs": [],
   "source": [
    "temp['lag1'] = temp['differences'].shift(1)"
   ]
  },
  {
   "cell_type": "code",
   "execution_count": null,
   "metadata": {},
   "outputs": [],
   "source": [
    "temp['lag2'] = temp['differences'].shift(2)"
   ]
  },
  {
   "cell_type": "code",
   "execution_count": null,
   "metadata": {},
   "outputs": [],
   "source": [
    "temp['lag3'] = temp['differences'].shift(3)"
   ]
  },
  {
   "cell_type": "code",
   "execution_count": null,
   "metadata": {},
   "outputs": [],
   "source": [
    "temp['lag4'] = temp['differences'].shift(4)"
   ]
  },
  {
   "cell_type": "code",
   "execution_count": null,
   "metadata": {},
   "outputs": [],
   "source": [
    "temp.dropna(inplace=True)\n",
    "X_full = temp.drop(['temperature', 'trend_seasonal', 'differences'], axis=1)\n",
    "y_full = temp['temperature']"
   ]
  },
  {
   "cell_type": "code",
   "execution_count": null,
   "metadata": {},
   "outputs": [
    {
     "data": {
      "text/html": [
       "<style>#sk-container-id-36 {color: black;background-color: white;}#sk-container-id-36 pre{padding: 0;}#sk-container-id-36 div.sk-toggleable {background-color: white;}#sk-container-id-36 label.sk-toggleable__label {cursor: pointer;display: block;width: 100%;margin-bottom: 0;padding: 0.3em;box-sizing: border-box;text-align: center;}#sk-container-id-36 label.sk-toggleable__label-arrow:before {content: \"▸\";float: left;margin-right: 0.25em;color: #696969;}#sk-container-id-36 label.sk-toggleable__label-arrow:hover:before {color: black;}#sk-container-id-36 div.sk-estimator:hover label.sk-toggleable__label-arrow:before {color: black;}#sk-container-id-36 div.sk-toggleable__content {max-height: 0;max-width: 0;overflow: hidden;text-align: left;background-color: #f0f8ff;}#sk-container-id-36 div.sk-toggleable__content pre {margin: 0.2em;color: black;border-radius: 0.25em;background-color: #f0f8ff;}#sk-container-id-36 input.sk-toggleable__control:checked~div.sk-toggleable__content {max-height: 200px;max-width: 100%;overflow: auto;}#sk-container-id-36 input.sk-toggleable__control:checked~label.sk-toggleable__label-arrow:before {content: \"▾\";}#sk-container-id-36 div.sk-estimator input.sk-toggleable__control:checked~label.sk-toggleable__label {background-color: #d4ebff;}#sk-container-id-36 div.sk-label input.sk-toggleable__control:checked~label.sk-toggleable__label {background-color: #d4ebff;}#sk-container-id-36 input.sk-hidden--visually {border: 0;clip: rect(1px 1px 1px 1px);clip: rect(1px, 1px, 1px, 1px);height: 1px;margin: -1px;overflow: hidden;padding: 0;position: absolute;width: 1px;}#sk-container-id-36 div.sk-estimator {font-family: monospace;background-color: #f0f8ff;border: 1px dotted black;border-radius: 0.25em;box-sizing: border-box;margin-bottom: 0.5em;}#sk-container-id-36 div.sk-estimator:hover {background-color: #d4ebff;}#sk-container-id-36 div.sk-parallel-item::after {content: \"\";width: 100%;border-bottom: 1px solid gray;flex-grow: 1;}#sk-container-id-36 div.sk-label:hover label.sk-toggleable__label {background-color: #d4ebff;}#sk-container-id-36 div.sk-serial::before {content: \"\";position: absolute;border-left: 1px solid gray;box-sizing: border-box;top: 0;bottom: 0;left: 50%;z-index: 0;}#sk-container-id-36 div.sk-serial {display: flex;flex-direction: column;align-items: center;background-color: white;padding-right: 0.2em;padding-left: 0.2em;position: relative;}#sk-container-id-36 div.sk-item {position: relative;z-index: 1;}#sk-container-id-36 div.sk-parallel {display: flex;align-items: stretch;justify-content: center;background-color: white;position: relative;}#sk-container-id-36 div.sk-item::before, #sk-container-id-36 div.sk-parallel-item::before {content: \"\";position: absolute;border-left: 1px solid gray;box-sizing: border-box;top: 0;bottom: 0;left: 50%;z-index: -1;}#sk-container-id-36 div.sk-parallel-item {display: flex;flex-direction: column;z-index: 1;position: relative;background-color: white;}#sk-container-id-36 div.sk-parallel-item:first-child::after {align-self: flex-end;width: 50%;}#sk-container-id-36 div.sk-parallel-item:last-child::after {align-self: flex-start;width: 50%;}#sk-container-id-36 div.sk-parallel-item:only-child::after {width: 0;}#sk-container-id-36 div.sk-dashed-wrapped {border: 1px dashed gray;margin: 0 0.4em 0.5em 0.4em;box-sizing: border-box;padding-bottom: 0.4em;background-color: white;}#sk-container-id-36 div.sk-label label {font-family: monospace;font-weight: bold;display: inline-block;line-height: 1.2em;}#sk-container-id-36 div.sk-label-container {text-align: center;}#sk-container-id-36 div.sk-container {/* jupyter's `normalize.less` sets `[hidden] { display: none; }` but bootstrap.min.css set `[hidden] { display: none !important; }` so we also need the `!important` here to be able to override the default hidden behavior on the sphinx rendered scikit-learn.org. See: https://github.com/scikit-learn/scikit-learn/issues/21755 */display: inline-block !important;position: relative;}#sk-container-id-36 div.sk-text-repr-fallback {display: none;}</style><div id=\"sk-container-id-36\" class=\"sk-top-container\"><div class=\"sk-text-repr-fallback\"><pre>LinearRegression()</pre><b>In a Jupyter environment, please rerun this cell to show the HTML representation or trust the notebook. <br />On GitHub, the HTML representation is unable to render, please try loading this page with nbviewer.org.</b></div><div class=\"sk-container\" hidden><div class=\"sk-item\"><div class=\"sk-estimator sk-toggleable\"><input class=\"sk-toggleable__control sk-hidden--visually\" id=\"sk-estimator-id-36\" type=\"checkbox\" checked><label for=\"sk-estimator-id-36\" class=\"sk-toggleable__label sk-toggleable__label-arrow\">LinearRegression</label><div class=\"sk-toggleable__content\"><pre>LinearRegression()</pre></div></div></div></div></div>"
      ],
      "text/plain": [
       "LinearRegression()"
      ]
     },
     "execution_count": 807,
     "metadata": {},
     "output_type": "execute_result"
    }
   ],
   "source": [
    "m_full = LinearRegression()\n",
    "m_full.fit(X_full, y_full)"
   ]
  },
  {
   "cell_type": "code",
   "execution_count": null,
   "metadata": {},
   "outputs": [],
   "source": [
    "\n",
    "ts_split = TimeSeriesSplit(n_splits=5)"
   ]
  },
  {
   "cell_type": "code",
   "execution_count": null,
   "metadata": {},
   "outputs": [
    {
     "name": "stdout",
     "output_type": "stream",
     "text": [
      "The training data for the 1th iteration are the observations 0 to 8922\n",
      "The validation data for the 1th iteration are the observations 8923 to 17842\n",
      "\n",
      "The training data for the 2th iteration are the observations 0 to 17842\n",
      "The validation data for the 2th iteration are the observations 17843 to 26762\n",
      "\n",
      "The training data for the 3th iteration are the observations 0 to 26762\n",
      "The validation data for the 3th iteration are the observations 26763 to 35682\n",
      "\n",
      "The training data for the 4th iteration are the observations 0 to 35682\n",
      "The validation data for the 4th iteration are the observations 35683 to 44602\n",
      "\n",
      "The training data for the 5th iteration are the observations 0 to 44602\n",
      "The validation data for the 5th iteration are the observations 44603 to 53522\n",
      "\n"
     ]
    }
   ],
   "source": [
    "# See how the folds work: \n",
    "for i, (train_index, validation_index) in enumerate(ts_split.split(X_full, y_full)):\n",
    "    print(f'The training data for the {i+1}th iteration are the observations {train_index[0]} to {train_index[-1]}')\n",
    "    print(f'The validation data for the {i+1}th iteration are the observations {validation_index[0]} to {validation_index[-1]}')\n",
    "    print()"
   ]
  },
  {
   "cell_type": "code",
   "execution_count": null,
   "metadata": {},
   "outputs": [],
   "source": [
    "time_series_split = ts_split.split(X_full, y_full)"
   ]
  },
  {
   "cell_type": "code",
   "execution_count": null,
   "metadata": {},
   "outputs": [
    {
     "data": {
      "text/plain": [
       "<generator object TimeSeriesSplit.split at 0x7fc04684c820>"
      ]
     },
     "execution_count": 811,
     "metadata": {},
     "output_type": "execute_result"
    }
   ],
   "source": [
    "time_series_split "
   ]
  },
  {
   "cell_type": "code",
   "execution_count": null,
   "metadata": {},
   "outputs": [],
   "source": [
    "result = cross_val_score(estimator=m_full, X=X_full, y=y_full, cv=time_series_split)"
   ]
  },
  {
   "cell_type": "code",
   "execution_count": null,
   "metadata": {},
   "outputs": [
    {
     "data": {
      "text/html": [
       "<div>\n",
       "<style scoped>\n",
       "    .dataframe tbody tr th:only-of-type {\n",
       "        vertical-align: middle;\n",
       "    }\n",
       "\n",
       "    .dataframe tbody tr th {\n",
       "        vertical-align: top;\n",
       "    }\n",
       "\n",
       "    .dataframe thead th {\n",
       "        text-align: right;\n",
       "    }\n",
       "</style>\n",
       "<table border=\"1\" class=\"dataframe\">\n",
       "  <thead>\n",
       "    <tr style=\"text-align: right;\">\n",
       "      <th></th>\n",
       "      <th>temperature</th>\n",
       "      <th>quality</th>\n",
       "      <th>year</th>\n",
       "      <th>timestep</th>\n",
       "      <th>month_2</th>\n",
       "      <th>month_3</th>\n",
       "      <th>month_4</th>\n",
       "      <th>month_5</th>\n",
       "      <th>month_6</th>\n",
       "      <th>month_7</th>\n",
       "      <th>...</th>\n",
       "      <th>month_9</th>\n",
       "      <th>month_10</th>\n",
       "      <th>month_11</th>\n",
       "      <th>month_12</th>\n",
       "      <th>trend_seasonal</th>\n",
       "      <th>differences</th>\n",
       "      <th>lag1</th>\n",
       "      <th>lag2</th>\n",
       "      <th>lag3</th>\n",
       "      <th>lag4</th>\n",
       "    </tr>\n",
       "    <tr>\n",
       "      <th>date</th>\n",
       "      <th></th>\n",
       "      <th></th>\n",
       "      <th></th>\n",
       "      <th></th>\n",
       "      <th></th>\n",
       "      <th></th>\n",
       "      <th></th>\n",
       "      <th></th>\n",
       "      <th></th>\n",
       "      <th></th>\n",
       "      <th></th>\n",
       "      <th></th>\n",
       "      <th></th>\n",
       "      <th></th>\n",
       "      <th></th>\n",
       "      <th></th>\n",
       "      <th></th>\n",
       "      <th></th>\n",
       "      <th></th>\n",
       "      <th></th>\n",
       "      <th></th>\n",
       "    </tr>\n",
       "  </thead>\n",
       "  <tbody>\n",
       "    <tr>\n",
       "      <th>1876-01-05</th>\n",
       "      <td>-9.8</td>\n",
       "      <td>0</td>\n",
       "      <td>1876</td>\n",
       "      <td>4</td>\n",
       "      <td>0</td>\n",
       "      <td>0</td>\n",
       "      <td>0</td>\n",
       "      <td>0</td>\n",
       "      <td>0</td>\n",
       "      <td>0</td>\n",
       "      <td>...</td>\n",
       "      <td>0</td>\n",
       "      <td>0</td>\n",
       "      <td>0</td>\n",
       "      <td>0</td>\n",
       "      <td>-0.843018</td>\n",
       "      <td>-8.956982</td>\n",
       "      <td>-4.957357</td>\n",
       "      <td>1.142269</td>\n",
       "      <td>3.341894</td>\n",
       "      <td>3.041520</td>\n",
       "    </tr>\n",
       "    <tr>\n",
       "      <th>1876-01-06</th>\n",
       "      <td>-7.7</td>\n",
       "      <td>0</td>\n",
       "      <td>1876</td>\n",
       "      <td>5</td>\n",
       "      <td>0</td>\n",
       "      <td>0</td>\n",
       "      <td>0</td>\n",
       "      <td>0</td>\n",
       "      <td>0</td>\n",
       "      <td>0</td>\n",
       "      <td>...</td>\n",
       "      <td>0</td>\n",
       "      <td>0</td>\n",
       "      <td>0</td>\n",
       "      <td>0</td>\n",
       "      <td>-0.843392</td>\n",
       "      <td>-6.856608</td>\n",
       "      <td>-8.956982</td>\n",
       "      <td>-4.957357</td>\n",
       "      <td>1.142269</td>\n",
       "      <td>3.341894</td>\n",
       "    </tr>\n",
       "    <tr>\n",
       "      <th>1876-01-07</th>\n",
       "      <td>-6.6</td>\n",
       "      <td>0</td>\n",
       "      <td>1876</td>\n",
       "      <td>6</td>\n",
       "      <td>0</td>\n",
       "      <td>0</td>\n",
       "      <td>0</td>\n",
       "      <td>0</td>\n",
       "      <td>0</td>\n",
       "      <td>0</td>\n",
       "      <td>...</td>\n",
       "      <td>0</td>\n",
       "      <td>0</td>\n",
       "      <td>0</td>\n",
       "      <td>0</td>\n",
       "      <td>-0.843767</td>\n",
       "      <td>-5.756233</td>\n",
       "      <td>-6.856608</td>\n",
       "      <td>-8.956982</td>\n",
       "      <td>-4.957357</td>\n",
       "      <td>1.142269</td>\n",
       "    </tr>\n",
       "    <tr>\n",
       "      <th>1876-01-08</th>\n",
       "      <td>-8.9</td>\n",
       "      <td>0</td>\n",
       "      <td>1876</td>\n",
       "      <td>7</td>\n",
       "      <td>0</td>\n",
       "      <td>0</td>\n",
       "      <td>0</td>\n",
       "      <td>0</td>\n",
       "      <td>0</td>\n",
       "      <td>0</td>\n",
       "      <td>...</td>\n",
       "      <td>0</td>\n",
       "      <td>0</td>\n",
       "      <td>0</td>\n",
       "      <td>0</td>\n",
       "      <td>-0.844141</td>\n",
       "      <td>-8.055859</td>\n",
       "      <td>-5.756233</td>\n",
       "      <td>-6.856608</td>\n",
       "      <td>-8.956982</td>\n",
       "      <td>-4.957357</td>\n",
       "    </tr>\n",
       "    <tr>\n",
       "      <th>1876-01-09</th>\n",
       "      <td>-12.7</td>\n",
       "      <td>0</td>\n",
       "      <td>1876</td>\n",
       "      <td>8</td>\n",
       "      <td>0</td>\n",
       "      <td>0</td>\n",
       "      <td>0</td>\n",
       "      <td>0</td>\n",
       "      <td>0</td>\n",
       "      <td>0</td>\n",
       "      <td>...</td>\n",
       "      <td>0</td>\n",
       "      <td>0</td>\n",
       "      <td>0</td>\n",
       "      <td>0</td>\n",
       "      <td>-0.844516</td>\n",
       "      <td>-11.855484</td>\n",
       "      <td>-8.055859</td>\n",
       "      <td>-5.756233</td>\n",
       "      <td>-6.856608</td>\n",
       "      <td>-8.956982</td>\n",
       "    </tr>\n",
       "    <tr>\n",
       "      <th>...</th>\n",
       "      <td>...</td>\n",
       "      <td>...</td>\n",
       "      <td>...</td>\n",
       "      <td>...</td>\n",
       "      <td>...</td>\n",
       "      <td>...</td>\n",
       "      <td>...</td>\n",
       "      <td>...</td>\n",
       "      <td>...</td>\n",
       "      <td>...</td>\n",
       "      <td>...</td>\n",
       "      <td>...</td>\n",
       "      <td>...</td>\n",
       "      <td>...</td>\n",
       "      <td>...</td>\n",
       "      <td>...</td>\n",
       "      <td>...</td>\n",
       "      <td>...</td>\n",
       "      <td>...</td>\n",
       "      <td>...</td>\n",
       "      <td>...</td>\n",
       "    </tr>\n",
       "    <tr>\n",
       "      <th>2023-01-27</th>\n",
       "      <td>1.6</td>\n",
       "      <td>0</td>\n",
       "      <td>2023</td>\n",
       "      <td>53522</td>\n",
       "      <td>0</td>\n",
       "      <td>0</td>\n",
       "      <td>0</td>\n",
       "      <td>0</td>\n",
       "      <td>0</td>\n",
       "      <td>0</td>\n",
       "      <td>...</td>\n",
       "      <td>0</td>\n",
       "      <td>0</td>\n",
       "      <td>0</td>\n",
       "      <td>0</td>\n",
       "      <td>0.941757</td>\n",
       "      <td>0.658243</td>\n",
       "      <td>-1.642131</td>\n",
       "      <td>-0.142506</td>\n",
       "      <td>-0.142880</td>\n",
       "      <td>0.656746</td>\n",
       "    </tr>\n",
       "    <tr>\n",
       "      <th>2023-01-28</th>\n",
       "      <td>0.1</td>\n",
       "      <td>0</td>\n",
       "      <td>2023</td>\n",
       "      <td>53523</td>\n",
       "      <td>0</td>\n",
       "      <td>0</td>\n",
       "      <td>0</td>\n",
       "      <td>0</td>\n",
       "      <td>0</td>\n",
       "      <td>0</td>\n",
       "      <td>...</td>\n",
       "      <td>0</td>\n",
       "      <td>0</td>\n",
       "      <td>0</td>\n",
       "      <td>0</td>\n",
       "      <td>0.941382</td>\n",
       "      <td>-0.841382</td>\n",
       "      <td>0.658243</td>\n",
       "      <td>-1.642131</td>\n",
       "      <td>-0.142506</td>\n",
       "      <td>-0.142880</td>\n",
       "    </tr>\n",
       "    <tr>\n",
       "      <th>2023-01-29</th>\n",
       "      <td>1.1</td>\n",
       "      <td>0</td>\n",
       "      <td>2023</td>\n",
       "      <td>53524</td>\n",
       "      <td>0</td>\n",
       "      <td>0</td>\n",
       "      <td>0</td>\n",
       "      <td>0</td>\n",
       "      <td>0</td>\n",
       "      <td>0</td>\n",
       "      <td>...</td>\n",
       "      <td>0</td>\n",
       "      <td>0</td>\n",
       "      <td>0</td>\n",
       "      <td>0</td>\n",
       "      <td>0.941008</td>\n",
       "      <td>0.158992</td>\n",
       "      <td>-0.841382</td>\n",
       "      <td>0.658243</td>\n",
       "      <td>-1.642131</td>\n",
       "      <td>-0.142506</td>\n",
       "    </tr>\n",
       "    <tr>\n",
       "      <th>2023-01-30</th>\n",
       "      <td>3.8</td>\n",
       "      <td>0</td>\n",
       "      <td>2023</td>\n",
       "      <td>53525</td>\n",
       "      <td>0</td>\n",
       "      <td>0</td>\n",
       "      <td>0</td>\n",
       "      <td>0</td>\n",
       "      <td>0</td>\n",
       "      <td>0</td>\n",
       "      <td>...</td>\n",
       "      <td>0</td>\n",
       "      <td>0</td>\n",
       "      <td>0</td>\n",
       "      <td>0</td>\n",
       "      <td>0.940633</td>\n",
       "      <td>2.859367</td>\n",
       "      <td>0.158992</td>\n",
       "      <td>-0.841382</td>\n",
       "      <td>0.658243</td>\n",
       "      <td>-1.642131</td>\n",
       "    </tr>\n",
       "    <tr>\n",
       "      <th>2023-01-31</th>\n",
       "      <td>4.3</td>\n",
       "      <td>0</td>\n",
       "      <td>2023</td>\n",
       "      <td>53526</td>\n",
       "      <td>0</td>\n",
       "      <td>0</td>\n",
       "      <td>0</td>\n",
       "      <td>0</td>\n",
       "      <td>0</td>\n",
       "      <td>0</td>\n",
       "      <td>...</td>\n",
       "      <td>0</td>\n",
       "      <td>0</td>\n",
       "      <td>0</td>\n",
       "      <td>0</td>\n",
       "      <td>0.940259</td>\n",
       "      <td>3.359741</td>\n",
       "      <td>2.859367</td>\n",
       "      <td>0.158992</td>\n",
       "      <td>-0.841382</td>\n",
       "      <td>0.658243</td>\n",
       "    </tr>\n",
       "  </tbody>\n",
       "</table>\n",
       "<p>53523 rows × 21 columns</p>\n",
       "</div>"
      ],
      "text/plain": [
       "            temperature  quality  year  timestep  month_2  month_3  month_4  \\\n",
       "date                                                                          \n",
       "1876-01-05         -9.8        0  1876         4        0        0        0   \n",
       "1876-01-06         -7.7        0  1876         5        0        0        0   \n",
       "1876-01-07         -6.6        0  1876         6        0        0        0   \n",
       "1876-01-08         -8.9        0  1876         7        0        0        0   \n",
       "1876-01-09        -12.7        0  1876         8        0        0        0   \n",
       "...                 ...      ...   ...       ...      ...      ...      ...   \n",
       "2023-01-27          1.6        0  2023     53522        0        0        0   \n",
       "2023-01-28          0.1        0  2023     53523        0        0        0   \n",
       "2023-01-29          1.1        0  2023     53524        0        0        0   \n",
       "2023-01-30          3.8        0  2023     53525        0        0        0   \n",
       "2023-01-31          4.3        0  2023     53526        0        0        0   \n",
       "\n",
       "            month_5  month_6  month_7  ...  month_9  month_10  month_11  \\\n",
       "date                                   ...                                \n",
       "1876-01-05        0        0        0  ...        0         0         0   \n",
       "1876-01-06        0        0        0  ...        0         0         0   \n",
       "1876-01-07        0        0        0  ...        0         0         0   \n",
       "1876-01-08        0        0        0  ...        0         0         0   \n",
       "1876-01-09        0        0        0  ...        0         0         0   \n",
       "...             ...      ...      ...  ...      ...       ...       ...   \n",
       "2023-01-27        0        0        0  ...        0         0         0   \n",
       "2023-01-28        0        0        0  ...        0         0         0   \n",
       "2023-01-29        0        0        0  ...        0         0         0   \n",
       "2023-01-30        0        0        0  ...        0         0         0   \n",
       "2023-01-31        0        0        0  ...        0         0         0   \n",
       "\n",
       "            month_12  trend_seasonal  differences      lag1      lag2  \\\n",
       "date                                                                    \n",
       "1876-01-05         0       -0.843018    -8.956982 -4.957357  1.142269   \n",
       "1876-01-06         0       -0.843392    -6.856608 -8.956982 -4.957357   \n",
       "1876-01-07         0       -0.843767    -5.756233 -6.856608 -8.956982   \n",
       "1876-01-08         0       -0.844141    -8.055859 -5.756233 -6.856608   \n",
       "1876-01-09         0       -0.844516   -11.855484 -8.055859 -5.756233   \n",
       "...              ...             ...          ...       ...       ...   \n",
       "2023-01-27         0        0.941757     0.658243 -1.642131 -0.142506   \n",
       "2023-01-28         0        0.941382    -0.841382  0.658243 -1.642131   \n",
       "2023-01-29         0        0.941008     0.158992 -0.841382  0.658243   \n",
       "2023-01-30         0        0.940633     2.859367  0.158992 -0.841382   \n",
       "2023-01-31         0        0.940259     3.359741  2.859367  0.158992   \n",
       "\n",
       "                lag3      lag4  \n",
       "date                            \n",
       "1876-01-05  3.341894  3.041520  \n",
       "1876-01-06  1.142269  3.341894  \n",
       "1876-01-07 -4.957357  1.142269  \n",
       "1876-01-08 -8.956982 -4.957357  \n",
       "1876-01-09 -6.856608 -8.956982  \n",
       "...              ...       ...  \n",
       "2023-01-27 -0.142880  0.656746  \n",
       "2023-01-28 -0.142506 -0.142880  \n",
       "2023-01-29 -1.642131 -0.142506  \n",
       "2023-01-30  0.658243 -1.642131  \n",
       "2023-01-31 -0.841382  0.658243  \n",
       "\n",
       "[53523 rows x 21 columns]"
      ]
     },
     "execution_count": 813,
     "metadata": {},
     "output_type": "execute_result"
    }
   ],
   "source": [
    "temp"
   ]
  },
  {
   "cell_type": "code",
   "execution_count": null,
   "metadata": {},
   "outputs": [],
   "source": [
    "#Adding an array like in train data to predict the value\n",
    "timestep = temp['timestep'].max() + 1\n"
   ]
  },
  {
   "cell_type": "code",
   "execution_count": null,
   "metadata": {},
   "outputs": [],
   "source": [
    "months = [0] * 11\n"
   ]
  },
  {
   "cell_type": "code",
   "execution_count": null,
   "metadata": {},
   "outputs": [],
   "source": [
    "#As we are going to predict february, placed 1 in the first step\n",
    "months[0] = 1\n",
    "lag1 = temp.loc['2023-01-31', 'differences']\n",
    "lag2 = temp.loc['2023-01-30', 'differences']\n",
    "lag3 = temp.loc['2023-01-29','differences']\n",
    "lag4 = temp.loc['2023-01-28','differences']"
   ]
  },
  {
   "cell_type": "code",
   "execution_count": null,
   "metadata": {},
   "outputs": [],
   "source": [
    "# Create a future data point\n",
    "X_future1 = []\n",
    "X_future1.append(0)\n",
    "X_future1.append(2023)\n",
    "X_future1.append(timestep)\n",
    "X_future1.extend(months)\n",
    "X_future1.append(lag1)\n",
    "X_future1.append(lag2)\n",
    "X_future1.append(lag3)\n",
    "X_future1.append(lag4)"
   ]
  },
  {
   "cell_type": "code",
   "execution_count": null,
   "metadata": {},
   "outputs": [],
   "source": [
    "X_future1 = pd.DataFrame([X_future1], columns = X_full.columns)"
   ]
  },
  {
   "cell_type": "code",
   "execution_count": null,
   "metadata": {},
   "outputs": [
    {
     "data": {
      "text/html": [
       "<div>\n",
       "<style scoped>\n",
       "    .dataframe tbody tr th:only-of-type {\n",
       "        vertical-align: middle;\n",
       "    }\n",
       "\n",
       "    .dataframe tbody tr th {\n",
       "        vertical-align: top;\n",
       "    }\n",
       "\n",
       "    .dataframe thead th {\n",
       "        text-align: right;\n",
       "    }\n",
       "</style>\n",
       "<table border=\"1\" class=\"dataframe\">\n",
       "  <thead>\n",
       "    <tr style=\"text-align: right;\">\n",
       "      <th></th>\n",
       "      <th>quality</th>\n",
       "      <th>year</th>\n",
       "      <th>timestep</th>\n",
       "      <th>month_2</th>\n",
       "      <th>month_3</th>\n",
       "      <th>month_4</th>\n",
       "      <th>month_5</th>\n",
       "      <th>month_6</th>\n",
       "      <th>month_7</th>\n",
       "      <th>month_8</th>\n",
       "      <th>month_9</th>\n",
       "      <th>month_10</th>\n",
       "      <th>month_11</th>\n",
       "      <th>month_12</th>\n",
       "      <th>lag1</th>\n",
       "      <th>lag2</th>\n",
       "      <th>lag3</th>\n",
       "      <th>lag4</th>\n",
       "    </tr>\n",
       "  </thead>\n",
       "  <tbody>\n",
       "    <tr>\n",
       "      <th>0</th>\n",
       "      <td>0</td>\n",
       "      <td>2023</td>\n",
       "      <td>53527</td>\n",
       "      <td>1</td>\n",
       "      <td>0</td>\n",
       "      <td>0</td>\n",
       "      <td>0</td>\n",
       "      <td>0</td>\n",
       "      <td>0</td>\n",
       "      <td>0</td>\n",
       "      <td>0</td>\n",
       "      <td>0</td>\n",
       "      <td>0</td>\n",
       "      <td>0</td>\n",
       "      <td>3.359741</td>\n",
       "      <td>2.859367</td>\n",
       "      <td>0.158992</td>\n",
       "      <td>-0.841382</td>\n",
       "    </tr>\n",
       "  </tbody>\n",
       "</table>\n",
       "</div>"
      ],
      "text/plain": [
       "   quality  year  timestep  month_2  month_3  month_4  month_5  month_6  \\\n",
       "0        0  2023     53527        1        0        0        0        0   \n",
       "\n",
       "   month_7  month_8  month_9  month_10  month_11  month_12      lag1  \\\n",
       "0        0        0        0         0         0         0  3.359741   \n",
       "\n",
       "       lag2      lag3      lag4  \n",
       "0  2.859367  0.158992 -0.841382  "
      ]
     },
     "execution_count": 819,
     "metadata": {},
     "output_type": "execute_result"
    }
   ],
   "source": [
    "X_future1"
   ]
  },
  {
   "cell_type": "code",
   "execution_count": null,
   "metadata": {},
   "outputs": [
    {
     "data": {
      "text/plain": [
       "array([4.44796822])"
      ]
     },
     "execution_count": 820,
     "metadata": {},
     "output_type": "execute_result"
    }
   ],
   "source": [
    "m_full.predict(X_future1)"
   ]
  },
  {
   "attachments": {},
   "cell_type": "markdown",
   "metadata": {},
   "source": [
    "                                                       -----Ends here-----------"
   ]
  }
 ],
 "metadata": {
  "kernelspec": {
   "display_name": "base",
   "language": "python",
   "name": "python3"
  },
  "language_info": {
   "codemirror_mode": {
    "name": "ipython",
    "version": 3
   },
   "file_extension": ".py",
   "mimetype": "text/x-python",
   "name": "python",
   "nbconvert_exporter": "python",
   "pygments_lexer": "ipython3",
   "version": "3.10.9"
  },
  "orig_nbformat": 4
 },
 "nbformat": 4,
 "nbformat_minor": 2
}
